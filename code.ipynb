{
 "cells": [
  {
   "cell_type": "code",
   "execution_count": 1,
   "metadata": {},
   "outputs": [],
   "source": [
    "import numpy as np\n",
    "import pandas as pd\n",
    "from sklearn.model_selection import train_test_split\n",
    "from tqdm import tqdm"
   ]
  },
  {
   "cell_type": "markdown",
   "metadata": {},
   "source": [
    "### 1. 데이터 불러오기"
   ]
  },
  {
   "cell_type": "code",
   "execution_count": 2,
   "metadata": {},
   "outputs": [
    {
     "data": {
      "text/html": [
       "<div>\n",
       "<style scoped>\n",
       "    .dataframe tbody tr th:only-of-type {\n",
       "        vertical-align: middle;\n",
       "    }\n",
       "\n",
       "    .dataframe tbody tr th {\n",
       "        vertical-align: top;\n",
       "    }\n",
       "\n",
       "    .dataframe thead th {\n",
       "        text-align: right;\n",
       "    }\n",
       "</style>\n",
       "<table border=\"1\" class=\"dataframe\">\n",
       "  <thead>\n",
       "    <tr style=\"text-align: right;\">\n",
       "      <th></th>\n",
       "      <th>Wip Line_Dam</th>\n",
       "      <th>Process Desc._Dam</th>\n",
       "      <th>Equipment_Dam</th>\n",
       "      <th>Model.Suffix_Dam</th>\n",
       "      <th>Workorder_Dam</th>\n",
       "      <th>Insp. Seq No._Dam</th>\n",
       "      <th>Insp Judge Code_Dam</th>\n",
       "      <th>CURE END POSITION X Collect Result_Dam</th>\n",
       "      <th>CURE END POSITION X Unit Time_Dam</th>\n",
       "      <th>CURE END POSITION X Judge Value_Dam</th>\n",
       "      <th>...</th>\n",
       "      <th>Production Qty Collect Result_Fill2</th>\n",
       "      <th>Production Qty Unit Time_Fill2</th>\n",
       "      <th>Production Qty Judge Value_Fill2</th>\n",
       "      <th>Receip No Collect Result_Fill2</th>\n",
       "      <th>Receip No Unit Time_Fill2</th>\n",
       "      <th>Receip No Judge Value_Fill2</th>\n",
       "      <th>WorkMode Collect Result_Fill2</th>\n",
       "      <th>WorkMode Unit Time_Fill2</th>\n",
       "      <th>WorkMode Judge Value_Fill2</th>\n",
       "      <th>target</th>\n",
       "    </tr>\n",
       "  </thead>\n",
       "  <tbody>\n",
       "    <tr>\n",
       "      <th>0</th>\n",
       "      <td>IVI-OB6</td>\n",
       "      <td>Dam Dispenser</td>\n",
       "      <td>Dam dispenser #1</td>\n",
       "      <td>AJX75334505</td>\n",
       "      <td>4F1XA938-1</td>\n",
       "      <td>1</td>\n",
       "      <td>OK</td>\n",
       "      <td>240.0</td>\n",
       "      <td>NaN</td>\n",
       "      <td>NaN</td>\n",
       "      <td>...</td>\n",
       "      <td>7</td>\n",
       "      <td>NaN</td>\n",
       "      <td>NaN</td>\n",
       "      <td>127</td>\n",
       "      <td>NaN</td>\n",
       "      <td>NaN</td>\n",
       "      <td>1</td>\n",
       "      <td>NaN</td>\n",
       "      <td>NaN</td>\n",
       "      <td>Normal</td>\n",
       "    </tr>\n",
       "    <tr>\n",
       "      <th>1</th>\n",
       "      <td>IVI-OB6</td>\n",
       "      <td>Dam Dispenser</td>\n",
       "      <td>Dam dispenser #1</td>\n",
       "      <td>AJX75334505</td>\n",
       "      <td>3KPM0016-2</td>\n",
       "      <td>1</td>\n",
       "      <td>OK</td>\n",
       "      <td>240.0</td>\n",
       "      <td>NaN</td>\n",
       "      <td>NaN</td>\n",
       "      <td>...</td>\n",
       "      <td>185</td>\n",
       "      <td>NaN</td>\n",
       "      <td>NaN</td>\n",
       "      <td>1</td>\n",
       "      <td>NaN</td>\n",
       "      <td>NaN</td>\n",
       "      <td>0</td>\n",
       "      <td>NaN</td>\n",
       "      <td>NaN</td>\n",
       "      <td>Normal</td>\n",
       "    </tr>\n",
       "    <tr>\n",
       "      <th>2</th>\n",
       "      <td>IVI-OB6</td>\n",
       "      <td>Dam Dispenser</td>\n",
       "      <td>Dam dispenser #2</td>\n",
       "      <td>AJX75334501</td>\n",
       "      <td>4E1X9167-1</td>\n",
       "      <td>1</td>\n",
       "      <td>OK</td>\n",
       "      <td>1000.0</td>\n",
       "      <td>NaN</td>\n",
       "      <td>NaN</td>\n",
       "      <td>...</td>\n",
       "      <td>10</td>\n",
       "      <td>NaN</td>\n",
       "      <td>NaN</td>\n",
       "      <td>73</td>\n",
       "      <td>NaN</td>\n",
       "      <td>NaN</td>\n",
       "      <td>1</td>\n",
       "      <td>NaN</td>\n",
       "      <td>NaN</td>\n",
       "      <td>Normal</td>\n",
       "    </tr>\n",
       "    <tr>\n",
       "      <th>3</th>\n",
       "      <td>IVI-OB6</td>\n",
       "      <td>Dam Dispenser</td>\n",
       "      <td>Dam dispenser #2</td>\n",
       "      <td>AJX75334501</td>\n",
       "      <td>3K1X0057-1</td>\n",
       "      <td>1</td>\n",
       "      <td>OK</td>\n",
       "      <td>1000.0</td>\n",
       "      <td>NaN</td>\n",
       "      <td>NaN</td>\n",
       "      <td>...</td>\n",
       "      <td>268</td>\n",
       "      <td>NaN</td>\n",
       "      <td>NaN</td>\n",
       "      <td>1</td>\n",
       "      <td>NaN</td>\n",
       "      <td>NaN</td>\n",
       "      <td>0</td>\n",
       "      <td>NaN</td>\n",
       "      <td>NaN</td>\n",
       "      <td>Normal</td>\n",
       "    </tr>\n",
       "    <tr>\n",
       "      <th>4</th>\n",
       "      <td>IVI-OB6</td>\n",
       "      <td>Dam Dispenser</td>\n",
       "      <td>Dam dispenser #1</td>\n",
       "      <td>AJX75334501</td>\n",
       "      <td>3HPM0007-1</td>\n",
       "      <td>1</td>\n",
       "      <td>OK</td>\n",
       "      <td>240.0</td>\n",
       "      <td>NaN</td>\n",
       "      <td>NaN</td>\n",
       "      <td>...</td>\n",
       "      <td>121</td>\n",
       "      <td>NaN</td>\n",
       "      <td>NaN</td>\n",
       "      <td>1</td>\n",
       "      <td>NaN</td>\n",
       "      <td>NaN</td>\n",
       "      <td>0</td>\n",
       "      <td>NaN</td>\n",
       "      <td>NaN</td>\n",
       "      <td>Normal</td>\n",
       "    </tr>\n",
       "  </tbody>\n",
       "</table>\n",
       "<p>5 rows × 464 columns</p>\n",
       "</div>"
      ],
      "text/plain": [
       "  Wip Line_Dam Process Desc._Dam     Equipment_Dam Model.Suffix_Dam  \\\n",
       "0      IVI-OB6     Dam Dispenser  Dam dispenser #1      AJX75334505   \n",
       "1      IVI-OB6     Dam Dispenser  Dam dispenser #1      AJX75334505   \n",
       "2      IVI-OB6     Dam Dispenser  Dam dispenser #2      AJX75334501   \n",
       "3      IVI-OB6     Dam Dispenser  Dam dispenser #2      AJX75334501   \n",
       "4      IVI-OB6     Dam Dispenser  Dam dispenser #1      AJX75334501   \n",
       "\n",
       "  Workorder_Dam  Insp. Seq No._Dam Insp Judge Code_Dam  \\\n",
       "0    4F1XA938-1                  1                  OK   \n",
       "1    3KPM0016-2                  1                  OK   \n",
       "2    4E1X9167-1                  1                  OK   \n",
       "3    3K1X0057-1                  1                  OK   \n",
       "4    3HPM0007-1                  1                  OK   \n",
       "\n",
       "   CURE END POSITION X Collect Result_Dam  CURE END POSITION X Unit Time_Dam  \\\n",
       "0                                   240.0                                NaN   \n",
       "1                                   240.0                                NaN   \n",
       "2                                  1000.0                                NaN   \n",
       "3                                  1000.0                                NaN   \n",
       "4                                   240.0                                NaN   \n",
       "\n",
       "   CURE END POSITION X Judge Value_Dam  ...  \\\n",
       "0                                  NaN  ...   \n",
       "1                                  NaN  ...   \n",
       "2                                  NaN  ...   \n",
       "3                                  NaN  ...   \n",
       "4                                  NaN  ...   \n",
       "\n",
       "   Production Qty Collect Result_Fill2  Production Qty Unit Time_Fill2  \\\n",
       "0                                    7                             NaN   \n",
       "1                                  185                             NaN   \n",
       "2                                   10                             NaN   \n",
       "3                                  268                             NaN   \n",
       "4                                  121                             NaN   \n",
       "\n",
       "   Production Qty Judge Value_Fill2  Receip No Collect Result_Fill2  \\\n",
       "0                               NaN                             127   \n",
       "1                               NaN                               1   \n",
       "2                               NaN                              73   \n",
       "3                               NaN                               1   \n",
       "4                               NaN                               1   \n",
       "\n",
       "   Receip No Unit Time_Fill2  Receip No Judge Value_Fill2  \\\n",
       "0                        NaN                          NaN   \n",
       "1                        NaN                          NaN   \n",
       "2                        NaN                          NaN   \n",
       "3                        NaN                          NaN   \n",
       "4                        NaN                          NaN   \n",
       "\n",
       "   WorkMode Collect Result_Fill2  WorkMode Unit Time_Fill2  \\\n",
       "0                              1                       NaN   \n",
       "1                              0                       NaN   \n",
       "2                              1                       NaN   \n",
       "3                              0                       NaN   \n",
       "4                              0                       NaN   \n",
       "\n",
       "   WorkMode Judge Value_Fill2  target  \n",
       "0                         NaN  Normal  \n",
       "1                         NaN  Normal  \n",
       "2                         NaN  Normal  \n",
       "3                         NaN  Normal  \n",
       "4                         NaN  Normal  \n",
       "\n",
       "[5 rows x 464 columns]"
      ]
     },
     "execution_count": 2,
     "metadata": {},
     "output_type": "execute_result"
    }
   ],
   "source": [
    "RANDOM_STATE = 42\n",
    "\n",
    "# Load data\n",
    "train = pd.read_csv(\"train.csv\")\n",
    "test = pd.read_csv('test.csv')\n",
    "train.head()"
   ]
  },
  {
   "cell_type": "code",
   "execution_count": 3,
   "metadata": {},
   "outputs": [
    {
     "name": "stdout",
     "output_type": "stream",
     "text": [
      "<class 'pandas.core.frame.DataFrame'>\n",
      "RangeIndex: 40506 entries, 0 to 40505\n",
      "Columns: 464 entries, Wip Line_Dam to target\n",
      "dtypes: float64(350), int64(77), object(37)\n",
      "memory usage: 143.4+ MB\n"
     ]
    }
   ],
   "source": [
    "train.info()"
   ]
  },
  {
   "cell_type": "code",
   "execution_count": 4,
   "metadata": {},
   "outputs": [
    {
     "data": {
      "text/plain": [
       "target\n",
       "Normal      38156\n",
       "AbNormal     2350\n",
       "Name: count, dtype: int64"
      ]
     },
     "execution_count": 4,
     "metadata": {},
     "output_type": "execute_result"
    }
   ],
   "source": [
    "train['target'].value_counts()"
   ]
  },
  {
   "cell_type": "markdown",
   "metadata": {},
   "source": [
    "### 2. 데이터 전처리"
   ]
  },
  {
   "cell_type": "markdown",
   "metadata": {},
   "source": [
    "#### 2-1. 데이터가 전부 결측치인 경우 column 제거"
   ]
  },
  {
   "cell_type": "code",
   "execution_count": 9,
   "metadata": {},
   "outputs": [],
   "source": [
    "for i in train.columns:\n",
    "    if train[i].isnull().sum() == len(train):\n",
    "        train = train.drop(i,axis=1)\n",
    "        test = test.drop(i,axis=1)"
   ]
  },
  {
   "cell_type": "code",
   "execution_count": 10,
   "metadata": {},
   "outputs": [],
   "source": [
    "test = test.drop('Set ID',axis=1)"
   ]
  },
  {
   "cell_type": "code",
   "execution_count": 11,
   "metadata": {},
   "outputs": [
    {
     "name": "stdout",
     "output_type": "stream",
     "text": [
      "<class 'pandas.core.frame.DataFrame'>\n",
      "RangeIndex: 40506 entries, 0 to 40505\n",
      "Columns: 186 entries, Wip Line_Dam to target\n",
      "dtypes: float64(72), int64(77), object(37)\n",
      "memory usage: 57.5+ MB\n"
     ]
    }
   ],
   "source": [
    "train.info()"
   ]
  },
  {
   "cell_type": "markdown",
   "metadata": {},
   "source": [
    "#### 2-2. test셋의 고유값이 train셋의 고유값 안에 전부 포함되는 column만 추출"
   ]
  },
  {
   "cell_type": "code",
   "execution_count": 12,
   "metadata": {},
   "outputs": [],
   "source": [
    "lst = []\n",
    "for i in test.columns:\n",
    "    x = 0\n",
    "    lens = len(test[i].value_counts().keys())\n",
    "    for value in test[i].value_counts().keys():\n",
    "        if value in train[i].value_counts().keys():\n",
    "            x += 1\n",
    "    if x == lens:\n",
    "        lst += [i]"
   ]
  },
  {
   "cell_type": "code",
   "execution_count": 13,
   "metadata": {},
   "outputs": [],
   "source": [
    "# 파생변수('기포량')을 위해 '2nd Pressure Collect Result_AutoClave'를 포함함\n",
    "\n",
    "train = train[['2nd Pressure Collect Result_AutoClave'] + lst] \n",
    "test = test[['2nd Pressure Collect Result_AutoClave'] + lst]"
   ]
  },
  {
   "cell_type": "code",
   "execution_count": 14,
   "metadata": {},
   "outputs": [
    {
     "name": "stdout",
     "output_type": "stream",
     "text": [
      "<class 'pandas.core.frame.DataFrame'>\n",
      "RangeIndex: 40506 entries, 0 to 40505\n",
      "Columns: 168 entries, 2nd Pressure Collect Result_AutoClave to target\n",
      "dtypes: float64(65), int64(70), object(33)\n",
      "memory usage: 51.9+ MB\n"
     ]
    }
   ],
   "source": [
    "train.info()"
   ]
  },
  {
   "cell_type": "markdown",
   "metadata": {},
   "source": [
    "#### 2-3. 1.4 : 1(정상 : 비정상)의 비율로 데이터셋 구축"
   ]
  },
  {
   "cell_type": "code",
   "execution_count": 15,
   "metadata": {},
   "outputs": [
    {
     "name": "stdout",
     "output_type": "stream",
     "text": [
      "  Total: Normal: 38156, AbNormal: 2350\n"
     ]
    },
    {
     "data": {
      "text/plain": [
       "target\n",
       "Normal      3290\n",
       "AbNormal    2350\n",
       "Name: count, dtype: int64"
      ]
     },
     "execution_count": 15,
     "metadata": {},
     "output_type": "execute_result"
    }
   ],
   "source": [
    "df_normal = train[train[\"target\"] == \"Normal\"]\n",
    "df_abnormal = train[train[\"target\"] == \"AbNormal\"]\n",
    "\n",
    "num_normal = len(df_normal)\n",
    "num_abnormal = len(df_abnormal)\n",
    "print(f\"  Total: Normal: {num_normal}, AbNormal: {num_abnormal}\")\n",
    "\n",
    "df_normal = df_normal.sample(\n",
    "    n=3290, replace=False, random_state=RANDOM_STATE\n",
    ")\n",
    "df_concat = pd.concat([df_normal, df_abnormal], axis=0).reset_index(drop=True)\n",
    "df_concat.value_counts(\"target\")"
   ]
  },
  {
   "cell_type": "code",
   "execution_count": 16,
   "metadata": {},
   "outputs": [],
   "source": [
    "df = df_concat\n",
    "df_test = test"
   ]
  },
  {
   "cell_type": "markdown",
   "metadata": {},
   "source": [
    "#### 2-4. 데이터 고유값 내 'OK'가 존재할 경우 column 제거"
   ]
  },
  {
   "cell_type": "code",
   "execution_count": 17,
   "metadata": {},
   "outputs": [
    {
     "name": "stdout",
     "output_type": "stream",
     "text": [
      "Insp Judge Code_Dam\n",
      "HEAD NORMAL COORDINATE X AXIS(Stage1) Judge Value_Dam\n",
      "Insp Judge Code_AutoClave\n",
      "1st Pressure Judge Value_AutoClave\n",
      "2nd Pressure Judge Value_AutoClave\n",
      "3rd Pressure Judge Value_AutoClave\n",
      "Chamber Temp. Judge Value_AutoClave\n",
      "GMES_ORIGIN_INSP_JUDGE_CODE Collect Result_AutoClave\n",
      "GMES_ORIGIN_INSP_JUDGE_CODE Judge Value_AutoClave\n",
      "Insp Judge Code_Fill1\n",
      "HEAD NORMAL COORDINATE X AXIS(Stage1) Collect Result_Fill1\n",
      "HEAD NORMAL COORDINATE X AXIS(Stage1) Judge Value_Fill1\n",
      "Insp Judge Code_Fill2\n",
      "HEAD NORMAL COORDINATE X AXIS(Stage1) Collect Result_Fill2\n",
      "HEAD NORMAL COORDINATE X AXIS(Stage1) Judge Value_Fill2\n"
     ]
    }
   ],
   "source": [
    "# 파생변수('cure diff')를 위해 'HEAD NORMAL COORDINATE X AXIS(Stage1) Collect Result_Dam'을 남기고 제거\n",
    "for i in df.columns:\n",
    "    if 'OK' in list(df[i].value_counts().keys()) and i != 'HEAD NORMAL COORDINATE X AXIS(Stage1) Collect Result_Dam':\n",
    "        print(i)\n",
    "        df = df.drop(i,axis=1)"
   ]
  },
  {
   "cell_type": "code",
   "execution_count": 18,
   "metadata": {},
   "outputs": [],
   "source": [
    "df_test = df_test[[i for i in df.columns if i!='target']]"
   ]
  },
  {
   "cell_type": "code",
   "execution_count": 19,
   "metadata": {},
   "outputs": [],
   "source": [
    "df['target'] = np.where(df['target'] == 'Normal',0,1)"
   ]
  },
  {
   "cell_type": "code",
   "execution_count": 20,
   "metadata": {},
   "outputs": [
    {
     "name": "stdout",
     "output_type": "stream",
     "text": [
      "<class 'pandas.core.frame.DataFrame'>\n",
      "RangeIndex: 5640 entries, 0 to 5639\n",
      "Columns: 153 entries, 2nd Pressure Collect Result_AutoClave to target\n",
      "dtypes: float64(65), int32(1), int64(70), object(17)\n",
      "memory usage: 6.6+ MB\n"
     ]
    }
   ],
   "source": [
    "df.info()"
   ]
  },
  {
   "cell_type": "code",
   "execution_count": 21,
   "metadata": {},
   "outputs": [
    {
     "name": "stderr",
     "output_type": "stream",
     "text": [
      "C:\\Users\\amysm\\AppData\\Local\\Temp\\ipykernel_4560\\3846601362.py:4: SettingWithCopyWarning: \n",
      "A value is trying to be set on a copy of a slice from a DataFrame.\n",
      "Try using .loc[row_indexer,col_indexer] = value instead\n",
      "\n",
      "See the caveats in the documentation: https://pandas.pydata.org/pandas-docs/stable/user_guide/indexing.html#returning-a-view-versus-a-copy\n",
      "  df_test[col] = np.where(df_test[col] == 'OK',0,df_test[col])\n"
     ]
    }
   ],
   "source": [
    "# 'HEAD NORMAL COORDINATE X AXIS(Stage1) Collect Result_Dam' 전처리\n",
    "col = 'HEAD NORMAL COORDINATE X AXIS(Stage1) Collect Result_Dam'\n",
    "df[col] = np.where(df[col] == 'OK',0,df[col])\n",
    "df_test[col] = np.where(df_test[col] == 'OK',0,df_test[col])"
   ]
  },
  {
   "cell_type": "code",
   "execution_count": 22,
   "metadata": {},
   "outputs": [
    {
     "name": "stderr",
     "output_type": "stream",
     "text": [
      "C:\\Users\\amysm\\AppData\\Local\\Temp\\ipykernel_4560\\3253849403.py:2: SettingWithCopyWarning: \n",
      "A value is trying to be set on a copy of a slice from a DataFrame.\n",
      "Try using .loc[row_indexer,col_indexer] = value instead\n",
      "\n",
      "See the caveats in the documentation: https://pandas.pydata.org/pandas-docs/stable/user_guide/indexing.html#returning-a-view-versus-a-copy\n",
      "  df_test[col] = df_test[col].fillna(0)\n"
     ]
    }
   ],
   "source": [
    "df[col] = df[col].fillna(0)\n",
    "df_test[col] = df_test[col].fillna(0)"
   ]
  },
  {
   "cell_type": "code",
   "execution_count": 23,
   "metadata": {},
   "outputs": [
    {
     "name": "stderr",
     "output_type": "stream",
     "text": [
      "C:\\Users\\amysm\\AppData\\Local\\Temp\\ipykernel_4560\\1941485476.py:2: SettingWithCopyWarning: \n",
      "A value is trying to be set on a copy of a slice from a DataFrame.\n",
      "Try using .loc[row_indexer,col_indexer] = value instead\n",
      "\n",
      "See the caveats in the documentation: https://pandas.pydata.org/pandas-docs/stable/user_guide/indexing.html#returning-a-view-versus-a-copy\n",
      "  df_test[col] = df_test[col].astype('float64')\n",
      "C:\\Users\\amysm\\AppData\\Local\\Temp\\ipykernel_4560\\1941485476.py:7: SettingWithCopyWarning: \n",
      "A value is trying to be set on a copy of a slice from a DataFrame.\n",
      "Try using .loc[row_indexer,col_indexer] = value instead\n",
      "\n",
      "See the caveats in the documentation: https://pandas.pydata.org/pandas-docs/stable/user_guide/indexing.html#returning-a-view-versus-a-copy\n",
      "  df_test[col] = np.where(df_test[col] == 0,df_test[col].mean(),df_test[col])\n"
     ]
    }
   ],
   "source": [
    "df[col] = df[col].astype('float64')\n",
    "df_test[col] = df_test[col].astype('float64')\n",
    "\n",
    "df[col].value_counts().keys()\n",
    "\n",
    "df[col] = np.where(df[col] == 0,df[col].mean(),df[col])\n",
    "df_test[col] = np.where(df_test[col] == 0,df_test[col].mean(),df_test[col])"
   ]
  },
  {
   "cell_type": "code",
   "execution_count": 24,
   "metadata": {},
   "outputs": [
    {
     "name": "stdout",
     "output_type": "stream",
     "text": [
      "<class 'pandas.core.frame.DataFrame'>\n",
      "RangeIndex: 5640 entries, 0 to 5639\n",
      "Columns: 153 entries, 2nd Pressure Collect Result_AutoClave to target\n",
      "dtypes: float64(66), int32(1), int64(70), object(16)\n",
      "memory usage: 6.6+ MB\n",
      "<class 'pandas.core.frame.DataFrame'>\n",
      "RangeIndex: 17361 entries, 0 to 17360\n",
      "Columns: 152 entries, 2nd Pressure Collect Result_AutoClave to WorkMode Collect Result_Fill2\n",
      "dtypes: float64(66), int64(70), object(16)\n",
      "memory usage: 20.1+ MB\n"
     ]
    }
   ],
   "source": [
    "df.info()\n",
    "df_test.info()"
   ]
  },
  {
   "cell_type": "code",
   "execution_count": 25,
   "metadata": {},
   "outputs": [
    {
     "name": "stdout",
     "output_type": "stream",
     "text": [
      "0\n",
      "0\n"
     ]
    }
   ],
   "source": [
    "print(df.isnull().sum().sum())\n",
    "print(df_test.isnull().sum().sum())"
   ]
  },
  {
   "cell_type": "code",
   "execution_count": 26,
   "metadata": {},
   "outputs": [
    {
     "name": "stdout",
     "output_type": "stream",
     "text": [
      "Wip Line_Dam\n",
      "Process Desc._Dam\n",
      "Insp. Seq No._Dam\n",
      "CURE STANDBY POSITION X Collect Result_Dam\n",
      "CURE STANDBY POSITION Z Collect Result_Dam\n",
      "CURE STANDBY POSITION Θ Collect Result_Dam\n",
      "CURE START POSITION Z Collect Result_Dam\n",
      "Wip Line_AutoClave\n",
      "Process Desc._AutoClave\n",
      "Equipment_AutoClave\n",
      "Insp. Seq No._AutoClave\n",
      "Wip Line_Fill1\n",
      "Process Desc._Fill1\n",
      "Insp. Seq No._Fill1\n",
      "Wip Line_Fill2\n",
      "Process Desc._Fill2\n",
      "Insp. Seq No._Fill2\n",
      "CURE END POSITION Θ Collect Result_Fill2\n",
      "CURE STANDBY POSITION X Collect Result_Fill2\n",
      "CURE STANDBY POSITION Θ Collect Result_Fill2\n",
      "CURE START POSITION Θ Collect Result_Fill2\n",
      "DISCHARGED SPEED OF RESIN Collect Result_Fill2\n",
      "DISCHARGED TIME OF RESIN(Stage1) Collect Result_Fill2\n",
      "DISCHARGED TIME OF RESIN(Stage2) Collect Result_Fill2\n",
      "DISCHARGED TIME OF RESIN(Stage3) Collect Result_Fill2\n",
      "Dispense Volume(Stage1) Collect Result_Fill2\n",
      "Dispense Volume(Stage2) Collect Result_Fill2\n",
      "Dispense Volume(Stage3) Collect Result_Fill2\n"
     ]
    }
   ],
   "source": [
    "# 고유값이 한 개인 컬럼 제거\n",
    "for i in df.columns:\n",
    "    if len(df[i].value_counts().keys()) == 1:\n",
    "        print(i)\n",
    "        df = df.drop(i,axis=1)\n",
    "        df_test = df_test.drop(i,axis=1)"
   ]
  },
  {
   "cell_type": "code",
   "execution_count": 27,
   "metadata": {},
   "outputs": [
    {
     "name": "stdout",
     "output_type": "stream",
     "text": [
      "<class 'pandas.core.frame.DataFrame'>\n",
      "RangeIndex: 5640 entries, 0 to 5639\n",
      "Columns: 125 entries, 2nd Pressure Collect Result_AutoClave to target\n",
      "dtypes: float64(62), int32(1), int64(55), object(7)\n",
      "memory usage: 5.4+ MB\n"
     ]
    }
   ],
   "source": [
    "df.info()"
   ]
  },
  {
   "cell_type": "code",
   "execution_count": 18,
   "metadata": {},
   "outputs": [],
   "source": [
    "# type이 object인 항목 중 상관관계가 1인 변수 쌍이 있기에 이를 제거\n",
    "df = df.drop(['Model.Suffix_AutoClave','Model.Suffix_Fill1','Model.Suffix_Fill2'],axis=1)\n",
    "df_test = df_test.drop(['Model.Suffix_AutoClave','Model.Suffix_Fill1','Model.Suffix_Fill2'],axis=1)"
   ]
  },
  {
   "cell_type": "code",
   "execution_count": 19,
   "metadata": {},
   "outputs": [
    {
     "data": {
      "text/plain": [
       "Index(['Equipment_Dam', 'Model.Suffix_Dam', 'Equipment_Fill1',\n",
       "       'Equipment_Fill2'],\n",
       "      dtype='object')"
      ]
     },
     "execution_count": 19,
     "metadata": {},
     "output_type": "execute_result"
    }
   ],
   "source": [
    "df.select_dtypes('object').columns"
   ]
  },
  {
   "cell_type": "code",
   "execution_count": 20,
   "metadata": {},
   "outputs": [
    {
     "data": {
      "text/plain": [
       "['1st Pressure Collect Result_AutoClave',\n",
       " '2nd Pressure Collect Result_AutoClave',\n",
       " '3rd Pressure Collect Result_AutoClave']"
      ]
     },
     "execution_count": 20,
     "metadata": {},
     "output_type": "execute_result"
    }
   ],
   "source": [
    "press = sorted([i for i in df.columns if 'AutoClave' in i and 'Collect Result' in i][:3])\n",
    "press"
   ]
  },
  {
   "cell_type": "markdown",
   "metadata": {},
   "source": [
    "#### 2-5. 파생변수 생성 "
   ]
  },
  {
   "cell_type": "code",
   "execution_count": 21,
   "metadata": {},
   "outputs": [],
   "source": [
    "# 초기압력 0.1, 초기 부피 100으로 가정\n",
    "# 몰의 법칙을 응용해서 -> 초기 압력 * 초기 부피 / 최종압력 = 최종 부피\n",
    "\n",
    "df['기체부피1'] = (100 * 0.1) / df[press[0]]\n",
    "df['기체부피2'] = (df['기체부피1'] * df[press[0]]) / df[press[1]]\n",
    "df['기체부피3'] = (df['기체부피2'] * df[press[1]]) / df[press[2]]\n",
    "df['기포량'] = 100 - df['기체부피3']\n",
    "\n",
    "df_test['기체부피1'] = (100 * 0.1) / df_test[press[0]]\n",
    "df_test['기체부피2'] = (df_test['기체부피1'] * df_test[press[0]]) / df_test[press[1]]\n",
    "df_test['기체부피3'] = (df_test['기체부피2'] * df_test[press[1]]) / df_test[press[2]]\n",
    "df_test['기포량'] = 100 - df_test['기체부피3']\n",
    "\n",
    "df = df.drop([i for i in df.columns if '기체부피' in i],axis=1)\n",
    "df_test = df_test.drop([i for i in df_test.columns if '기체부피' in i],axis=1)"
   ]
  },
  {
   "cell_type": "code",
   "execution_count": 22,
   "metadata": {},
   "outputs": [],
   "source": [
    "c = pd.read_csv('주요칼럼.csv')\n",
    "# train셋을 2725개씩 14등분하여 feature_importance와 permutation_importance를 교집합하여 상위 60개의 컬럼을 추출함\n",
    "\n",
    "lst = []\n",
    "\n",
    "for i in c.columns:\n",
    "    lst += [c[i].tolist()]\n",
    "    \n",
    "ai = np.unique(lst,return_counts=True)\n",
    "best_col = []\n",
    "\n",
    "for i in range(len(ai[0])):\n",
    "    if ai[1][i] >= 8:\n",
    "        best_col += [ai[0][i]]"
   ]
  },
  {
   "cell_type": "code",
   "execution_count": 23,
   "metadata": {},
   "outputs": [
    {
     "data": {
      "text/plain": [
       "8.0"
      ]
     },
     "execution_count": 23,
     "metadata": {},
     "output_type": "execute_result"
    }
   ],
   "source": [
    "np.median(ai[1])"
   ]
  },
  {
   "cell_type": "code",
   "execution_count": 24,
   "metadata": {},
   "outputs": [
    {
     "data": {
      "text/plain": [
       "['HEAD NORMAL COORDINATE X AXIS(Stage3) Collect Result_Dam',\n",
       " 'HEAD NORMAL COORDINATE X AXIS(Stage3) Collect Result_Fill2',\n",
       " 'HEAD NORMAL COORDINATE Y AXIS(Stage3) Collect Result_Dam',\n",
       " 'HEAD NORMAL COORDINATE Y AXIS(Stage3) Collect Result_Fill2',\n",
       " 'HEAD NORMAL COORDINATE Z AXIS(Stage3) Collect Result_Dam',\n",
       " 'HEAD NORMAL COORDINATE Z AXIS(Stage3) Collect Result_Fill2']"
      ]
     },
     "execution_count": 24,
     "metadata": {},
     "output_type": "execute_result"
    }
   ],
   "source": [
    "coordinate = [i for i in best_col if 'HEAD NORMAL COORDINATE' in i and 'Stage3' in i and ('Dam' in i or 'Fill2' in i)]\n",
    "coordinate"
   ]
  },
  {
   "cell_type": "code",
   "execution_count": 25,
   "metadata": {},
   "outputs": [],
   "source": [
    "# Dam, Fill2의 HEAD NORMAL COORDINATE 좌표 차이\n",
    "df['corr_diff'] = np.sqrt(((df[coordinate[0]] - df[coordinate[1]])**2) + \n",
    "                        ((df[coordinate[2]] - df[coordinate[3]])**2) + \n",
    "                        ((df[coordinate[4]] - df[coordinate[5]])**2))\n",
    "\n",
    "df_test['corr_diff'] = np.sqrt(((df_test[coordinate[0]] - df_test[coordinate[1]])**2) + \n",
    "                        ((df_test[coordinate[2]] - df_test[coordinate[3]])**2) + \n",
    "                        ((df_test[coordinate[4]] - df_test[coordinate[5]])**2))"
   ]
  },
  {
   "cell_type": "code",
   "execution_count": 26,
   "metadata": {},
   "outputs": [],
   "source": [
    "res = [i for i in best_col if i in train.columns]"
   ]
  },
  {
   "cell_type": "code",
   "execution_count": 27,
   "metadata": {},
   "outputs": [
    {
     "name": "stdout",
     "output_type": "stream",
     "text": [
      "Equipment_Dam\n",
      "Model.Suffix_Dam\n",
      "Equipment_Fill1\n",
      "Equipment_Fill2\n"
     ]
    }
   ],
   "source": [
    "for i in df.select_dtypes('object').columns:\n",
    "    df[i] = df[i].str[-1:].astype('int32')*10\n",
    "    df_test[i] = df_test[i].str[-1:].astype('int32')*10\n",
    "    print(i)"
   ]
  },
  {
   "cell_type": "code",
   "execution_count": 28,
   "metadata": {},
   "outputs": [
    {
     "name": "stdout",
     "output_type": "stream",
     "text": [
      "<class 'pandas.core.frame.DataFrame'>\n",
      "RangeIndex: 5640 entries, 0 to 5639\n",
      "Columns: 124 entries, 2nd Pressure Collect Result_AutoClave to corr_diff\n",
      "dtypes: float64(64), int32(5), int64(55)\n",
      "memory usage: 5.2 MB\n",
      "<class 'pandas.core.frame.DataFrame'>\n",
      "RangeIndex: 17361 entries, 0 to 17360\n",
      "Columns: 123 entries, 2nd Pressure Collect Result_AutoClave to corr_diff\n",
      "dtypes: float64(64), int32(4), int64(55)\n",
      "memory usage: 16.0 MB\n"
     ]
    }
   ],
   "source": [
    "df.info()\n",
    "df_test.info()"
   ]
  },
  {
   "cell_type": "code",
   "execution_count": 29,
   "metadata": {},
   "outputs": [],
   "source": [
    "df['workmodes'] = df[[i for i in res if 'WorkMode' in i][:2]].mean(axis='columns')\n",
    "df_test['workmodes'] = df_test[[i for i in res if 'WorkMode' in i][:2]].mean(axis='columns')\n",
    "\n",
    "df['cure_diff'] = df['CURE START POSITION X Collect Result_Dam'] - df[[i for i in df.columns if 'HEAD NORMAL COORDINATE X' in i and 'Dam' in i]].min(axis='columns')\n",
    "df_test['cure_diff'] = df_test['CURE START POSITION X Collect Result_Dam'] - df_test[[i for i in df_test.columns if 'HEAD NORMAL COORDINATE X' in i and 'Dam' in i]].min(axis='columns')"
   ]
  },
  {
   "cell_type": "code",
   "execution_count": 30,
   "metadata": {},
   "outputs": [],
   "source": [
    "df['Equipment'] = df[[i for i in df.columns if 'Equipment' in i]].sum(axis='columns')\n",
    "df_test['Equipment'] = df_test[[i for i in df_test.columns if 'Equipment' in i]].sum(axis='columns')"
   ]
  },
  {
   "cell_type": "code",
   "execution_count": 31,
   "metadata": {},
   "outputs": [],
   "source": [
    "target0 = list(df.groupby('target').var().reset_index().iloc[0])[1:]\n",
    "target1 = list(df.groupby('target').var().reset_index().iloc[1])[1:]"
   ]
  },
  {
   "cell_type": "code",
   "execution_count": 32,
   "metadata": {},
   "outputs": [],
   "source": [
    "# target을 기준으로 그룹화했을 때 분산의 차이가 전체 합의 10% 이상인 column만 추출해서 평균을 냄\n",
    "\n",
    "pers = []\n",
    "\n",
    "for i in range(len(target0)):\n",
    "    per = round(abs(target0[i] - target1[i]) / (target0[i] + target1[i]),1)\n",
    "    if per > 0:\n",
    "        pers += [df.groupby('target').var().reset_index().columns[1:][i]]"
   ]
  },
  {
   "cell_type": "code",
   "execution_count": 33,
   "metadata": {},
   "outputs": [],
   "source": [
    "df['means'] = df[pers].mean(axis='columns')\n",
    "df_test['means'] = df_test[pers].mean(axis='columns')"
   ]
  },
  {
   "cell_type": "code",
   "execution_count": 34,
   "metadata": {},
   "outputs": [],
   "source": [
    "# target과 상관관계가 너무 높아서 int로 치환\n",
    "df['means'] = df['means'].astype('int64')\n",
    "df_test['means'] = df_test['means'].astype('int64')"
   ]
  },
  {
   "cell_type": "code",
   "execution_count": 35,
   "metadata": {},
   "outputs": [],
   "source": [
    "# 고유값의 개수가 3개 이상인 경우 각 고유값별로 target이 1일 확률이 0.5 이상이면 1, 아니면 0으로 치환\n",
    "l = []\n",
    "\n",
    "for col in df.columns:\n",
    "    if len(df[col].value_counts().keys()) >= 3:\n",
    "        per0 = []\n",
    "        per1 = []\n",
    "        per = []\n",
    "\n",
    "        for i in list(df[col].value_counts().keys()):\n",
    "            a = len(df[df[col] == i])\n",
    "            b = len(df[(df[col] == i) & (df['target'] == 1)])\n",
    "            per += [round(b/a,1)]\n",
    "\n",
    "            if (round(b/a,1)) >= 0.5:\n",
    "                per0 += [i]\n",
    "            else:\n",
    "                per1 += [i]\n",
    "\n",
    "        if len([i for i in np.unique(per) if i >= 0.5]) >= 1:\n",
    "            df[col] = np.where(df[col].isin(per0),1,0)\n",
    "            df_test[col] = np.where(df_test[col].isin(per0),1,0)\n",
    "            l += [col]\n",
    "        else:\n",
    "            df = df.drop(col,axis=1)\n",
    "            df_test = df_test.drop(col,axis=1)"
   ]
  },
  {
   "cell_type": "code",
   "execution_count": 36,
   "metadata": {},
   "outputs": [],
   "source": [
    "for i in df.columns:\n",
    "    if len(df[i].value_counts().keys()) == 1:\n",
    "        df = df.drop(i,axis=1)\n",
    "        df_test = df_test.drop(i,axis=1)"
   ]
  },
  {
   "cell_type": "code",
   "execution_count": 37,
   "metadata": {},
   "outputs": [
    {
     "data": {
      "text/html": [
       "<div>\n",
       "<style scoped>\n",
       "    .dataframe tbody tr th:only-of-type {\n",
       "        vertical-align: middle;\n",
       "    }\n",
       "\n",
       "    .dataframe tbody tr th {\n",
       "        vertical-align: top;\n",
       "    }\n",
       "\n",
       "    .dataframe thead th {\n",
       "        text-align: right;\n",
       "    }\n",
       "</style>\n",
       "<table border=\"1\" class=\"dataframe\">\n",
       "  <thead>\n",
       "    <tr style=\"text-align: right;\">\n",
       "      <th></th>\n",
       "      <th>index</th>\n",
       "      <th>0</th>\n",
       "    </tr>\n",
       "  </thead>\n",
       "  <tbody>\n",
       "    <tr>\n",
       "      <th>120</th>\n",
       "      <td>target</td>\n",
       "      <td>1.000000</td>\n",
       "    </tr>\n",
       "    <tr>\n",
       "      <th>122</th>\n",
       "      <td>corr_diff</td>\n",
       "      <td>0.226973</td>\n",
       "    </tr>\n",
       "    <tr>\n",
       "      <th>16</th>\n",
       "      <td>HEAD NORMAL COORDINATE X AXIS(Stage2) Collect ...</td>\n",
       "      <td>0.209264</td>\n",
       "    </tr>\n",
       "    <tr>\n",
       "      <th>126</th>\n",
       "      <td>means</td>\n",
       "      <td>0.198401</td>\n",
       "    </tr>\n",
       "    <tr>\n",
       "      <th>18</th>\n",
       "      <td>HEAD NORMAL COORDINATE Y AXIS(Stage2) Collect ...</td>\n",
       "      <td>0.189296</td>\n",
       "    </tr>\n",
       "    <tr>\n",
       "      <th>19</th>\n",
       "      <td>HEAD NORMAL COORDINATE Y AXIS(Stage3) Collect ...</td>\n",
       "      <td>0.186735</td>\n",
       "    </tr>\n",
       "    <tr>\n",
       "      <th>17</th>\n",
       "      <td>HEAD NORMAL COORDINATE X AXIS(Stage3) Collect ...</td>\n",
       "      <td>0.184402</td>\n",
       "    </tr>\n",
       "    <tr>\n",
       "      <th>35</th>\n",
       "      <td>Stage1 Circle1 Distance Speed Collect Result_Dam</td>\n",
       "      <td>0.171857</td>\n",
       "    </tr>\n",
       "    <tr>\n",
       "      <th>124</th>\n",
       "      <td>cure_diff</td>\n",
       "      <td>0.168463</td>\n",
       "    </tr>\n",
       "    <tr>\n",
       "      <th>20</th>\n",
       "      <td>HEAD NORMAL COORDINATE Z AXIS(Stage1) Collect ...</td>\n",
       "      <td>0.166341</td>\n",
       "    </tr>\n",
       "    <tr>\n",
       "      <th>123</th>\n",
       "      <td>workmodes</td>\n",
       "      <td>0.159562</td>\n",
       "    </tr>\n",
       "    <tr>\n",
       "      <th>10</th>\n",
       "      <td>DISCHARGED TIME OF RESIN(Stage2) Collect Resul...</td>\n",
       "      <td>0.154804</td>\n",
       "    </tr>\n",
       "    <tr>\n",
       "      <th>94</th>\n",
       "      <td>WorkMode Collect Result_Fill1</td>\n",
       "      <td>0.154785</td>\n",
       "    </tr>\n",
       "    <tr>\n",
       "      <th>119</th>\n",
       "      <td>WorkMode Collect Result_Fill2</td>\n",
       "      <td>0.154368</td>\n",
       "    </tr>\n",
       "    <tr>\n",
       "      <th>80</th>\n",
       "      <td>HEAD NORMAL COORDINATE Y AXIS(Stage2) Collect ...</td>\n",
       "      <td>0.153402</td>\n",
       "    </tr>\n",
       "    <tr>\n",
       "      <th>82</th>\n",
       "      <td>HEAD NORMAL COORDINATE Z AXIS(Stage1) Collect ...</td>\n",
       "      <td>0.150208</td>\n",
       "    </tr>\n",
       "    <tr>\n",
       "      <th>13</th>\n",
       "      <td>Dispense Volume(Stage2) Collect Result_Dam</td>\n",
       "      <td>0.149684</td>\n",
       "    </tr>\n",
       "    <tr>\n",
       "      <th>21</th>\n",
       "      <td>HEAD NORMAL COORDINATE Z AXIS(Stage2) Collect ...</td>\n",
       "      <td>0.148940</td>\n",
       "    </tr>\n",
       "    <tr>\n",
       "      <th>22</th>\n",
       "      <td>HEAD NORMAL COORDINATE Z AXIS(Stage3) Collect ...</td>\n",
       "      <td>0.148940</td>\n",
       "    </tr>\n",
       "    <tr>\n",
       "      <th>68</th>\n",
       "      <td>Chamber Temp. Unit Time_AutoClave</td>\n",
       "      <td>0.148567</td>\n",
       "    </tr>\n",
       "  </tbody>\n",
       "</table>\n",
       "</div>"
      ],
      "text/plain": [
       "                                                 index         0\n",
       "120                                             target  1.000000\n",
       "122                                          corr_diff  0.226973\n",
       "16   HEAD NORMAL COORDINATE X AXIS(Stage2) Collect ...  0.209264\n",
       "126                                              means  0.198401\n",
       "18   HEAD NORMAL COORDINATE Y AXIS(Stage2) Collect ...  0.189296\n",
       "19   HEAD NORMAL COORDINATE Y AXIS(Stage3) Collect ...  0.186735\n",
       "17   HEAD NORMAL COORDINATE X AXIS(Stage3) Collect ...  0.184402\n",
       "35    Stage1 Circle1 Distance Speed Collect Result_Dam  0.171857\n",
       "124                                          cure_diff  0.168463\n",
       "20   HEAD NORMAL COORDINATE Z AXIS(Stage1) Collect ...  0.166341\n",
       "123                                          workmodes  0.159562\n",
       "10   DISCHARGED TIME OF RESIN(Stage2) Collect Resul...  0.154804\n",
       "94                       WorkMode Collect Result_Fill1  0.154785\n",
       "119                      WorkMode Collect Result_Fill2  0.154368\n",
       "80   HEAD NORMAL COORDINATE Y AXIS(Stage2) Collect ...  0.153402\n",
       "82   HEAD NORMAL COORDINATE Z AXIS(Stage1) Collect ...  0.150208\n",
       "13          Dispense Volume(Stage2) Collect Result_Dam  0.149684\n",
       "21   HEAD NORMAL COORDINATE Z AXIS(Stage2) Collect ...  0.148940\n",
       "22   HEAD NORMAL COORDINATE Z AXIS(Stage3) Collect ...  0.148940\n",
       "68                   Chamber Temp. Unit Time_AutoClave  0.148567"
      ]
     },
     "execution_count": 37,
     "metadata": {},
     "output_type": "execute_result"
    }
   ],
   "source": [
    "corr = pd.DataFrame(df.corrwith(df['target'])).reset_index()\n",
    "corr = corr.fillna(0)\n",
    "corr.sort_values(0,ascending=False).head(20)"
   ]
  },
  {
   "cell_type": "code",
   "execution_count": 38,
   "metadata": {},
   "outputs": [],
   "source": [
    "df = df.drop([i for i in df.columns if 'Equipment_' in i],axis=1)\n",
    "df_test = df_test.drop([i for i in df_test.columns if 'Equipment_' in i],axis=1)"
   ]
  },
  {
   "cell_type": "code",
   "execution_count": 39,
   "metadata": {},
   "outputs": [],
   "source": [
    "l = []\n",
    "for i in df.columns:\n",
    "    if list(df[i].value_counts().keys()) == [0,1]:\n",
    "        l += [i]"
   ]
  },
  {
   "cell_type": "code",
   "execution_count": 40,
   "metadata": {},
   "outputs": [],
   "source": [
    "l = [i for i in l if i != 'target']"
   ]
  },
  {
   "cell_type": "code",
   "execution_count": 41,
   "metadata": {},
   "outputs": [
    {
     "name": "stderr",
     "output_type": "stream",
     "text": [
      "C:\\Users\\amysm\\AppData\\Local\\Temp\\ipykernel_11720\\465178522.py:1: PerformanceWarning: DataFrame is highly fragmented.  This is usually the result of calling `frame.insert` many times, which has poor performance.  Consider joining all columns at once using pd.concat(axis=1) instead. To get a de-fragmented frame, use `newframe = frame.copy()`\n",
      "  df['01'] = df[l].sum(axis='columns')\n",
      "C:\\Users\\amysm\\AppData\\Local\\Temp\\ipykernel_11720\\465178522.py:2: PerformanceWarning: DataFrame is highly fragmented.  This is usually the result of calling `frame.insert` many times, which has poor performance.  Consider joining all columns at once using pd.concat(axis=1) instead. To get a de-fragmented frame, use `newframe = frame.copy()`\n",
      "  df_test['01'] = df_test[l].sum(axis='columns')\n"
     ]
    }
   ],
   "source": [
    "df['01'] = df[l].sum(axis='columns')\n",
    "df_test['01'] = df_test[l].sum(axis='columns')"
   ]
  },
  {
   "cell_type": "code",
   "execution_count": 42,
   "metadata": {},
   "outputs": [
    {
     "name": "stdout",
     "output_type": "stream",
     "text": [
      "(array([0. , 0.1, 0.2, 0.3, 0.4, 0.5, 0.6, 0.7, 0.8, 0.9, 1. ]), array([ 2,  1,  4, 10, 14, 23, 14,  3,  3,  1,  3], dtype=int64))\n"
     ]
    }
   ],
   "source": [
    "# 고유값이 [0,1]인 column만 추출해서 평균을 구해서 1,0으로 치환\n",
    "col = '01'\n",
    "per0 = []\n",
    "per1 = []\n",
    "per = []\n",
    "\n",
    "for i in list(df[col].value_counts().keys()):\n",
    "    a = len(df[df[col] == i])\n",
    "    b = len(df[(df[col] == i) & (df['target'] == 1)])\n",
    "    per += [round(b/a,1)]\n",
    "\n",
    "    if (round(b/a,1)) >= 0.6:\n",
    "        per0 += [i]\n",
    "    else:\n",
    "        per1 += [i]\n",
    "\n",
    "print(np.unique(per,return_counts=True))\n",
    "    \n",
    "df[col] = np.where(df[col].isin(per0),1,0)\n",
    "df_test[col] = np.where(df_test[col].isin(per0),1,0)"
   ]
  },
  {
   "cell_type": "code",
   "execution_count": 43,
   "metadata": {},
   "outputs": [
    {
     "data": {
      "text/html": [
       "<div>\n",
       "<style scoped>\n",
       "    .dataframe tbody tr th:only-of-type {\n",
       "        vertical-align: middle;\n",
       "    }\n",
       "\n",
       "    .dataframe tbody tr th {\n",
       "        vertical-align: top;\n",
       "    }\n",
       "\n",
       "    .dataframe thead th {\n",
       "        text-align: right;\n",
       "    }\n",
       "</style>\n",
       "<table border=\"1\" class=\"dataframe\">\n",
       "  <thead>\n",
       "    <tr style=\"text-align: right;\">\n",
       "      <th></th>\n",
       "      <th>2nd Pressure Collect Result_AutoClave</th>\n",
       "      <th>Model.Suffix_Dam</th>\n",
       "      <th>CURE END POSITION X Collect Result_Dam</th>\n",
       "      <th>CURE END POSITION Z Collect Result_Dam</th>\n",
       "      <th>CURE END POSITION Θ Collect Result_Dam</th>\n",
       "      <th>CURE START POSITION X Collect Result_Dam</th>\n",
       "      <th>CURE START POSITION Θ Collect Result_Dam</th>\n",
       "      <th>DISCHARGED SPEED OF RESIN Collect Result_Dam</th>\n",
       "      <th>DISCHARGED TIME OF RESIN(Stage1) Collect Result_Dam</th>\n",
       "      <th>DISCHARGED TIME OF RESIN(Stage2) Collect Result_Dam</th>\n",
       "      <th>...</th>\n",
       "      <th>Head Purge Position Z Collect Result_Fill2</th>\n",
       "      <th>WorkMode Collect Result_Fill2</th>\n",
       "      <th>target</th>\n",
       "      <th>기포량</th>\n",
       "      <th>corr_diff</th>\n",
       "      <th>workmodes</th>\n",
       "      <th>cure_diff</th>\n",
       "      <th>Equipment</th>\n",
       "      <th>means</th>\n",
       "      <th>01</th>\n",
       "    </tr>\n",
       "  </thead>\n",
       "  <tbody>\n",
       "    <tr>\n",
       "      <th>0</th>\n",
       "      <td>0</td>\n",
       "      <td>0</td>\n",
       "      <td>1000.0</td>\n",
       "      <td>12.5</td>\n",
       "      <td>90</td>\n",
       "      <td>280</td>\n",
       "      <td>90</td>\n",
       "      <td>0</td>\n",
       "      <td>0</td>\n",
       "      <td>0</td>\n",
       "      <td>...</td>\n",
       "      <td>50</td>\n",
       "      <td>0</td>\n",
       "      <td>0</td>\n",
       "      <td>0</td>\n",
       "      <td>0</td>\n",
       "      <td>0</td>\n",
       "      <td>0</td>\n",
       "      <td>0</td>\n",
       "      <td>0</td>\n",
       "      <td>0</td>\n",
       "    </tr>\n",
       "    <tr>\n",
       "      <th>1</th>\n",
       "      <td>0</td>\n",
       "      <td>0</td>\n",
       "      <td>240.0</td>\n",
       "      <td>2.5</td>\n",
       "      <td>-90</td>\n",
       "      <td>1030</td>\n",
       "      <td>-90</td>\n",
       "      <td>1</td>\n",
       "      <td>0</td>\n",
       "      <td>0</td>\n",
       "      <td>...</td>\n",
       "      <td>50</td>\n",
       "      <td>0</td>\n",
       "      <td>0</td>\n",
       "      <td>0</td>\n",
       "      <td>0</td>\n",
       "      <td>0</td>\n",
       "      <td>0</td>\n",
       "      <td>0</td>\n",
       "      <td>0</td>\n",
       "      <td>0</td>\n",
       "    </tr>\n",
       "    <tr>\n",
       "      <th>2</th>\n",
       "      <td>0</td>\n",
       "      <td>0</td>\n",
       "      <td>240.0</td>\n",
       "      <td>2.5</td>\n",
       "      <td>-90</td>\n",
       "      <td>1030</td>\n",
       "      <td>-90</td>\n",
       "      <td>0</td>\n",
       "      <td>0</td>\n",
       "      <td>0</td>\n",
       "      <td>...</td>\n",
       "      <td>50</td>\n",
       "      <td>0</td>\n",
       "      <td>0</td>\n",
       "      <td>0</td>\n",
       "      <td>0</td>\n",
       "      <td>0</td>\n",
       "      <td>0</td>\n",
       "      <td>0</td>\n",
       "      <td>0</td>\n",
       "      <td>0</td>\n",
       "    </tr>\n",
       "    <tr>\n",
       "      <th>3</th>\n",
       "      <td>0</td>\n",
       "      <td>0</td>\n",
       "      <td>240.0</td>\n",
       "      <td>2.5</td>\n",
       "      <td>-90</td>\n",
       "      <td>1030</td>\n",
       "      <td>-90</td>\n",
       "      <td>1</td>\n",
       "      <td>1</td>\n",
       "      <td>1</td>\n",
       "      <td>...</td>\n",
       "      <td>85</td>\n",
       "      <td>1</td>\n",
       "      <td>0</td>\n",
       "      <td>0</td>\n",
       "      <td>1</td>\n",
       "      <td>1</td>\n",
       "      <td>1</td>\n",
       "      <td>0</td>\n",
       "      <td>1</td>\n",
       "      <td>1</td>\n",
       "    </tr>\n",
       "    <tr>\n",
       "      <th>4</th>\n",
       "      <td>1</td>\n",
       "      <td>0</td>\n",
       "      <td>1000.0</td>\n",
       "      <td>12.5</td>\n",
       "      <td>90</td>\n",
       "      <td>280</td>\n",
       "      <td>90</td>\n",
       "      <td>1</td>\n",
       "      <td>0</td>\n",
       "      <td>0</td>\n",
       "      <td>...</td>\n",
       "      <td>50</td>\n",
       "      <td>0</td>\n",
       "      <td>0</td>\n",
       "      <td>0</td>\n",
       "      <td>0</td>\n",
       "      <td>0</td>\n",
       "      <td>0</td>\n",
       "      <td>0</td>\n",
       "      <td>0</td>\n",
       "      <td>0</td>\n",
       "    </tr>\n",
       "  </tbody>\n",
       "</table>\n",
       "<p>5 rows × 125 columns</p>\n",
       "</div>"
      ],
      "text/plain": [
       "   2nd Pressure Collect Result_AutoClave  Model.Suffix_Dam  \\\n",
       "0                                      0                 0   \n",
       "1                                      0                 0   \n",
       "2                                      0                 0   \n",
       "3                                      0                 0   \n",
       "4                                      1                 0   \n",
       "\n",
       "   CURE END POSITION X Collect Result_Dam  \\\n",
       "0                                  1000.0   \n",
       "1                                   240.0   \n",
       "2                                   240.0   \n",
       "3                                   240.0   \n",
       "4                                  1000.0   \n",
       "\n",
       "   CURE END POSITION Z Collect Result_Dam  \\\n",
       "0                                    12.5   \n",
       "1                                     2.5   \n",
       "2                                     2.5   \n",
       "3                                     2.5   \n",
       "4                                    12.5   \n",
       "\n",
       "   CURE END POSITION Θ Collect Result_Dam  \\\n",
       "0                                      90   \n",
       "1                                     -90   \n",
       "2                                     -90   \n",
       "3                                     -90   \n",
       "4                                      90   \n",
       "\n",
       "   CURE START POSITION X Collect Result_Dam  \\\n",
       "0                                       280   \n",
       "1                                      1030   \n",
       "2                                      1030   \n",
       "3                                      1030   \n",
       "4                                       280   \n",
       "\n",
       "   CURE START POSITION Θ Collect Result_Dam  \\\n",
       "0                                        90   \n",
       "1                                       -90   \n",
       "2                                       -90   \n",
       "3                                       -90   \n",
       "4                                        90   \n",
       "\n",
       "   DISCHARGED SPEED OF RESIN Collect Result_Dam  \\\n",
       "0                                             0   \n",
       "1                                             1   \n",
       "2                                             0   \n",
       "3                                             1   \n",
       "4                                             1   \n",
       "\n",
       "   DISCHARGED TIME OF RESIN(Stage1) Collect Result_Dam  \\\n",
       "0                                                  0     \n",
       "1                                                  0     \n",
       "2                                                  0     \n",
       "3                                                  1     \n",
       "4                                                  0     \n",
       "\n",
       "   DISCHARGED TIME OF RESIN(Stage2) Collect Result_Dam  ...  \\\n",
       "0                                                  0    ...   \n",
       "1                                                  0    ...   \n",
       "2                                                  0    ...   \n",
       "3                                                  1    ...   \n",
       "4                                                  0    ...   \n",
       "\n",
       "   Head Purge Position Z Collect Result_Fill2  WorkMode Collect Result_Fill2  \\\n",
       "0                                          50                              0   \n",
       "1                                          50                              0   \n",
       "2                                          50                              0   \n",
       "3                                          85                              1   \n",
       "4                                          50                              0   \n",
       "\n",
       "   target  기포량  corr_diff  workmodes  cure_diff  Equipment  means  01  \n",
       "0       0    0          0          0          0          0      0   0  \n",
       "1       0    0          0          0          0          0      0   0  \n",
       "2       0    0          0          0          0          0      0   0  \n",
       "3       0    0          1          1          1          0      1   1  \n",
       "4       0    0          0          0          0          0      0   0  \n",
       "\n",
       "[5 rows x 125 columns]"
      ]
     },
     "execution_count": 43,
     "metadata": {},
     "output_type": "execute_result"
    }
   ],
   "source": [
    "df.head()"
   ]
  },
  {
   "cell_type": "code",
   "execution_count": 44,
   "metadata": {},
   "outputs": [
    {
     "name": "stdout",
     "output_type": "stream",
     "text": [
      "<class 'pandas.core.frame.DataFrame'>\n",
      "RangeIndex: 5640 entries, 0 to 5639\n",
      "Columns: 125 entries, 2nd Pressure Collect Result_AutoClave to 01\n",
      "dtypes: float64(13), int32(95), int64(17)\n",
      "memory usage: 3.3 MB\n",
      "<class 'pandas.core.frame.DataFrame'>\n",
      "RangeIndex: 17361 entries, 0 to 17360\n",
      "Columns: 124 entries, 2nd Pressure Collect Result_AutoClave to 01\n",
      "dtypes: float64(13), int32(94), int64(17)\n",
      "memory usage: 10.2 MB\n"
     ]
    }
   ],
   "source": [
    "df.info()\n",
    "df_test.info()"
   ]
  },
  {
   "cell_type": "code",
   "execution_count": 45,
   "metadata": {},
   "outputs": [],
   "source": [
    "# target이 한 쪽으로 치우칠것을 방지하여 데이터를 섞음\n",
    "df = df.sample(frac=1,random_state=RANDOM_STATE).reset_index(drop=True)"
   ]
  },
  {
   "cell_type": "code",
   "execution_count": 46,
   "metadata": {},
   "outputs": [],
   "source": [
    "xtrain = df.drop(['target'],axis=1)\n",
    "ytrain = df['target']\n",
    "xtest = df_test"
   ]
  },
  {
   "cell_type": "code",
   "execution_count": 47,
   "metadata": {},
   "outputs": [
    {
     "data": {
      "text/plain": [
       "(5640, 124)"
      ]
     },
     "execution_count": 47,
     "metadata": {},
     "output_type": "execute_result"
    }
   ],
   "source": [
    "xtrain.shape"
   ]
  },
  {
   "cell_type": "code",
   "execution_count": 48,
   "metadata": {},
   "outputs": [
    {
     "name": "stdout",
     "output_type": "stream",
     "text": [
      "67\n"
     ]
    }
   ],
   "source": [
    "# pca를 통해 pca.explained_variance_ratio_가 1인 지점을 찾아 변환\n",
    "from sklearn.decomposition import PCA\n",
    "\n",
    "component = 0\n",
    "\n",
    "for i in range(1,125):\n",
    "    pca = PCA(n_components=i, random_state=RANDOM_STATE) # 주성분을 몇개로 할지 결정\n",
    "    a = pca.fit_transform(xtrain)\n",
    "    if (sum(pca.explained_variance_ratio_)) == 1:\n",
    "        print(i)\n",
    "        component = i\n",
    "        break"
   ]
  },
  {
   "cell_type": "code",
   "execution_count": 49,
   "metadata": {},
   "outputs": [
    {
     "name": "stdout",
     "output_type": "stream",
     "text": [
      "67\n"
     ]
    }
   ],
   "source": [
    "print(component)"
   ]
  },
  {
   "cell_type": "code",
   "execution_count": 50,
   "metadata": {},
   "outputs": [],
   "source": [
    "pca = PCA(n_components=component) # 주성분을 몇개로 할지 결정\n",
    "xtrain = pca.fit_transform(xtrain)\n",
    "xtest = pca.transform(xtest)"
   ]
  },
  {
   "cell_type": "code",
   "execution_count": 51,
   "metadata": {},
   "outputs": [],
   "source": [
    "from sklearn.preprocessing import StandardScaler\n",
    "\n",
    "# svm 학습을 위한 정규화\n",
    "scaler = StandardScaler()\n",
    "xtrain = scaler.fit_transform(xtrain)\n",
    "xtest = scaler.transform(xtest)"
   ]
  },
  {
   "cell_type": "code",
   "execution_count": 52,
   "metadata": {},
   "outputs": [
    {
     "name": "stdout",
     "output_type": "stream",
     "text": [
      "0.6852836879432624\n"
     ]
    }
   ],
   "source": [
    "from sklearn import svm\n",
    "clf = svm.SVC(kernel='rbf',random_state=RANDOM_STATE)\n",
    "clf.fit(xtrain,ytrain)\n",
    "print(clf.score(xtrain,ytrain))"
   ]
  },
  {
   "cell_type": "code",
   "execution_count": 53,
   "metadata": {},
   "outputs": [
    {
     "name": "stdout",
     "output_type": "stream",
     "text": [
      "accuracy: [0.65248227 0.66312057 0.63829787 0.66046099 0.6462766 ]\n",
      "평균 accuracy 스코어: 0.6521276595744682\n",
      "precision_macro: [0.64242424 0.65835782 0.62557582 0.65274119 0.6351178 ]\n",
      "평균 precision_macro 스코어: 0.6428433746200094\n",
      "recall_macro: [0.6212766  0.62826748 0.60577508 0.62841945 0.61443769]\n",
      "평균 recall_macro 스코어: 0.6196352583586625\n",
      "f1_macro: [0.62038462 0.62631684 0.60353816 0.62761656 0.61294883]\n",
      "평균 f1_macro 스코어: 0.6181610013755157\n"
     ]
    }
   ],
   "source": [
    "from sklearn.model_selection import cross_val_score\n",
    "\n",
    "for metric in ['accuracy','precision_macro', 'recall_macro', 'f1_macro']:\n",
    "    scores = cross_val_score(clf, xtrain,ytrain, cv=5, scoring=metric)\n",
    "\n",
    "    print(f'{metric}: {scores}')\n",
    "    print(f'평균 {metric} 스코어: {scores.mean()}')"
   ]
  },
  {
   "cell_type": "code",
   "execution_count": 54,
   "metadata": {},
   "outputs": [],
   "source": [
    "pred = clf.predict(xtest)"
   ]
  },
  {
   "cell_type": "code",
   "execution_count": 55,
   "metadata": {},
   "outputs": [],
   "source": [
    "df_sub = pd.read_csv(\"submission원본.csv\")\n",
    "df_sub[\"target\"] = pred\n",
    "\n",
    "\n",
    "df_sub['target'] = np.where(df_sub['target'] == 0,'Normal','AbNormal')\n",
    "\n",
    "# 제출 파일 저장\n",
    "df_sub.to_csv(\"submission.csv\", index=False)"
   ]
  },
  {
   "cell_type": "code",
   "execution_count": 56,
   "metadata": {},
   "outputs": [
    {
     "data": {
      "text/plain": [
       "target\n",
       "Normal      13511\n",
       "AbNormal     3850\n",
       "Name: count, dtype: int64"
      ]
     },
     "execution_count": 56,
     "metadata": {},
     "output_type": "execute_result"
    }
   ],
   "source": [
    "re = pd.read_csv('submission.csv')\n",
    "re['target'].value_counts()"
   ]
  }
 ],
 "metadata": {
  "kernelspec": {
   "display_name": "Python 3",
   "language": "python",
   "name": "python3"
  },
  "language_info": {
   "codemirror_mode": {
    "name": "ipython",
    "version": 3
   },
   "file_extension": ".py",
   "mimetype": "text/x-python",
   "name": "python",
   "nbconvert_exporter": "python",
   "pygments_lexer": "ipython3",
   "version": "3.10.11"
  }
 },
 "nbformat": 4,
 "nbformat_minor": 2
}
