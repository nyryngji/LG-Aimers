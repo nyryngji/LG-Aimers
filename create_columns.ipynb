{
 "cells": [
  {
   "cell_type": "code",
   "execution_count": 1,
   "metadata": {},
   "outputs": [],
   "source": [
    "import os\n",
    "from pprint import pprint\n",
    "\n",
    "import numpy as np\n",
    "import pandas as pd\n",
    "from sklearn.metrics import (\n",
    "    accuracy_score,\n",
    "    classification_report,\n",
    "    confusion_matrix,\n",
    "    f1_score,\n",
    "    precision_score,\n",
    "    recall_score,\n",
    ")\n",
    "from sklearn.model_selection import train_test_split\n",
    "from tqdm import tqdm\n",
    "import seaborn as sns \n",
    "import matplotlib.pyplot as plt "
   ]
  },
  {
   "cell_type": "code",
   "execution_count": 2,
   "metadata": {},
   "outputs": [
    {
     "data": {
      "text/html": [
       "<div>\n",
       "<style scoped>\n",
       "    .dataframe tbody tr th:only-of-type {\n",
       "        vertical-align: middle;\n",
       "    }\n",
       "\n",
       "    .dataframe tbody tr th {\n",
       "        vertical-align: top;\n",
       "    }\n",
       "\n",
       "    .dataframe thead th {\n",
       "        text-align: right;\n",
       "    }\n",
       "</style>\n",
       "<table border=\"1\" class=\"dataframe\">\n",
       "  <thead>\n",
       "    <tr style=\"text-align: right;\">\n",
       "      <th></th>\n",
       "      <th>Wip Line_Dam</th>\n",
       "      <th>Process Desc._Dam</th>\n",
       "      <th>Equipment_Dam</th>\n",
       "      <th>Model.Suffix_Dam</th>\n",
       "      <th>Workorder_Dam</th>\n",
       "      <th>Insp. Seq No._Dam</th>\n",
       "      <th>Insp Judge Code_Dam</th>\n",
       "      <th>CURE END POSITION X Collect Result_Dam</th>\n",
       "      <th>CURE END POSITION X Unit Time_Dam</th>\n",
       "      <th>CURE END POSITION X Judge Value_Dam</th>\n",
       "      <th>...</th>\n",
       "      <th>Production Qty Collect Result_Fill2</th>\n",
       "      <th>Production Qty Unit Time_Fill2</th>\n",
       "      <th>Production Qty Judge Value_Fill2</th>\n",
       "      <th>Receip No Collect Result_Fill2</th>\n",
       "      <th>Receip No Unit Time_Fill2</th>\n",
       "      <th>Receip No Judge Value_Fill2</th>\n",
       "      <th>WorkMode Collect Result_Fill2</th>\n",
       "      <th>WorkMode Unit Time_Fill2</th>\n",
       "      <th>WorkMode Judge Value_Fill2</th>\n",
       "      <th>target</th>\n",
       "    </tr>\n",
       "  </thead>\n",
       "  <tbody>\n",
       "    <tr>\n",
       "      <th>0</th>\n",
       "      <td>IVI-OB6</td>\n",
       "      <td>Dam Dispenser</td>\n",
       "      <td>Dam dispenser #1</td>\n",
       "      <td>AJX75334505</td>\n",
       "      <td>4F1XA938-1</td>\n",
       "      <td>1</td>\n",
       "      <td>OK</td>\n",
       "      <td>240.0</td>\n",
       "      <td>NaN</td>\n",
       "      <td>NaN</td>\n",
       "      <td>...</td>\n",
       "      <td>7</td>\n",
       "      <td>NaN</td>\n",
       "      <td>NaN</td>\n",
       "      <td>127</td>\n",
       "      <td>NaN</td>\n",
       "      <td>NaN</td>\n",
       "      <td>1</td>\n",
       "      <td>NaN</td>\n",
       "      <td>NaN</td>\n",
       "      <td>Normal</td>\n",
       "    </tr>\n",
       "    <tr>\n",
       "      <th>1</th>\n",
       "      <td>IVI-OB6</td>\n",
       "      <td>Dam Dispenser</td>\n",
       "      <td>Dam dispenser #1</td>\n",
       "      <td>AJX75334505</td>\n",
       "      <td>3KPM0016-2</td>\n",
       "      <td>1</td>\n",
       "      <td>OK</td>\n",
       "      <td>240.0</td>\n",
       "      <td>NaN</td>\n",
       "      <td>NaN</td>\n",
       "      <td>...</td>\n",
       "      <td>185</td>\n",
       "      <td>NaN</td>\n",
       "      <td>NaN</td>\n",
       "      <td>1</td>\n",
       "      <td>NaN</td>\n",
       "      <td>NaN</td>\n",
       "      <td>0</td>\n",
       "      <td>NaN</td>\n",
       "      <td>NaN</td>\n",
       "      <td>Normal</td>\n",
       "    </tr>\n",
       "    <tr>\n",
       "      <th>2</th>\n",
       "      <td>IVI-OB6</td>\n",
       "      <td>Dam Dispenser</td>\n",
       "      <td>Dam dispenser #2</td>\n",
       "      <td>AJX75334501</td>\n",
       "      <td>4E1X9167-1</td>\n",
       "      <td>1</td>\n",
       "      <td>OK</td>\n",
       "      <td>1000.0</td>\n",
       "      <td>NaN</td>\n",
       "      <td>NaN</td>\n",
       "      <td>...</td>\n",
       "      <td>10</td>\n",
       "      <td>NaN</td>\n",
       "      <td>NaN</td>\n",
       "      <td>73</td>\n",
       "      <td>NaN</td>\n",
       "      <td>NaN</td>\n",
       "      <td>1</td>\n",
       "      <td>NaN</td>\n",
       "      <td>NaN</td>\n",
       "      <td>Normal</td>\n",
       "    </tr>\n",
       "    <tr>\n",
       "      <th>3</th>\n",
       "      <td>IVI-OB6</td>\n",
       "      <td>Dam Dispenser</td>\n",
       "      <td>Dam dispenser #2</td>\n",
       "      <td>AJX75334501</td>\n",
       "      <td>3K1X0057-1</td>\n",
       "      <td>1</td>\n",
       "      <td>OK</td>\n",
       "      <td>1000.0</td>\n",
       "      <td>NaN</td>\n",
       "      <td>NaN</td>\n",
       "      <td>...</td>\n",
       "      <td>268</td>\n",
       "      <td>NaN</td>\n",
       "      <td>NaN</td>\n",
       "      <td>1</td>\n",
       "      <td>NaN</td>\n",
       "      <td>NaN</td>\n",
       "      <td>0</td>\n",
       "      <td>NaN</td>\n",
       "      <td>NaN</td>\n",
       "      <td>Normal</td>\n",
       "    </tr>\n",
       "    <tr>\n",
       "      <th>4</th>\n",
       "      <td>IVI-OB6</td>\n",
       "      <td>Dam Dispenser</td>\n",
       "      <td>Dam dispenser #1</td>\n",
       "      <td>AJX75334501</td>\n",
       "      <td>3HPM0007-1</td>\n",
       "      <td>1</td>\n",
       "      <td>OK</td>\n",
       "      <td>240.0</td>\n",
       "      <td>NaN</td>\n",
       "      <td>NaN</td>\n",
       "      <td>...</td>\n",
       "      <td>121</td>\n",
       "      <td>NaN</td>\n",
       "      <td>NaN</td>\n",
       "      <td>1</td>\n",
       "      <td>NaN</td>\n",
       "      <td>NaN</td>\n",
       "      <td>0</td>\n",
       "      <td>NaN</td>\n",
       "      <td>NaN</td>\n",
       "      <td>Normal</td>\n",
       "    </tr>\n",
       "  </tbody>\n",
       "</table>\n",
       "<p>5 rows × 464 columns</p>\n",
       "</div>"
      ],
      "text/plain": [
       "  Wip Line_Dam Process Desc._Dam     Equipment_Dam Model.Suffix_Dam  \\\n",
       "0      IVI-OB6     Dam Dispenser  Dam dispenser #1      AJX75334505   \n",
       "1      IVI-OB6     Dam Dispenser  Dam dispenser #1      AJX75334505   \n",
       "2      IVI-OB6     Dam Dispenser  Dam dispenser #2      AJX75334501   \n",
       "3      IVI-OB6     Dam Dispenser  Dam dispenser #2      AJX75334501   \n",
       "4      IVI-OB6     Dam Dispenser  Dam dispenser #1      AJX75334501   \n",
       "\n",
       "  Workorder_Dam  Insp. Seq No._Dam Insp Judge Code_Dam  \\\n",
       "0    4F1XA938-1                  1                  OK   \n",
       "1    3KPM0016-2                  1                  OK   \n",
       "2    4E1X9167-1                  1                  OK   \n",
       "3    3K1X0057-1                  1                  OK   \n",
       "4    3HPM0007-1                  1                  OK   \n",
       "\n",
       "   CURE END POSITION X Collect Result_Dam  CURE END POSITION X Unit Time_Dam  \\\n",
       "0                                   240.0                                NaN   \n",
       "1                                   240.0                                NaN   \n",
       "2                                  1000.0                                NaN   \n",
       "3                                  1000.0                                NaN   \n",
       "4                                   240.0                                NaN   \n",
       "\n",
       "   CURE END POSITION X Judge Value_Dam  ...  \\\n",
       "0                                  NaN  ...   \n",
       "1                                  NaN  ...   \n",
       "2                                  NaN  ...   \n",
       "3                                  NaN  ...   \n",
       "4                                  NaN  ...   \n",
       "\n",
       "   Production Qty Collect Result_Fill2  Production Qty Unit Time_Fill2  \\\n",
       "0                                    7                             NaN   \n",
       "1                                  185                             NaN   \n",
       "2                                   10                             NaN   \n",
       "3                                  268                             NaN   \n",
       "4                                  121                             NaN   \n",
       "\n",
       "   Production Qty Judge Value_Fill2  Receip No Collect Result_Fill2  \\\n",
       "0                               NaN                             127   \n",
       "1                               NaN                               1   \n",
       "2                               NaN                              73   \n",
       "3                               NaN                               1   \n",
       "4                               NaN                               1   \n",
       "\n",
       "   Receip No Unit Time_Fill2  Receip No Judge Value_Fill2  \\\n",
       "0                        NaN                          NaN   \n",
       "1                        NaN                          NaN   \n",
       "2                        NaN                          NaN   \n",
       "3                        NaN                          NaN   \n",
       "4                        NaN                          NaN   \n",
       "\n",
       "   WorkMode Collect Result_Fill2  WorkMode Unit Time_Fill2  \\\n",
       "0                              1                       NaN   \n",
       "1                              0                       NaN   \n",
       "2                              1                       NaN   \n",
       "3                              0                       NaN   \n",
       "4                              0                       NaN   \n",
       "\n",
       "   WorkMode Judge Value_Fill2  target  \n",
       "0                         NaN  Normal  \n",
       "1                         NaN  Normal  \n",
       "2                         NaN  Normal  \n",
       "3                         NaN  Normal  \n",
       "4                         NaN  Normal  \n",
       "\n",
       "[5 rows x 464 columns]"
      ]
     },
     "execution_count": 2,
     "metadata": {},
     "output_type": "execute_result"
    }
   ],
   "source": [
    "RANDOM_STATE = 42\n",
    "\n",
    "# Load data\n",
    "train = pd.read_csv(\"train.csv\")\n",
    "test = pd.read_csv('test.csv')\n",
    "train.head()"
   ]
  },
  {
   "cell_type": "code",
   "execution_count": 3,
   "metadata": {},
   "outputs": [],
   "source": [
    "train = train.drop_duplicates()"
   ]
  },
  {
   "cell_type": "code",
   "execution_count": 4,
   "metadata": {},
   "outputs": [
    {
     "data": {
      "text/plain": [
       "target\n",
       "Normal      38150\n",
       "AbNormal     2350\n",
       "Name: count, dtype: int64"
      ]
     },
     "execution_count": 4,
     "metadata": {},
     "output_type": "execute_result"
    }
   ],
   "source": [
    "train['target'].value_counts()"
   ]
  },
  {
   "cell_type": "code",
   "execution_count": 5,
   "metadata": {},
   "outputs": [],
   "source": [
    "for i in train.columns:\n",
    "    if train[i].isnull().sum() == len(train):\n",
    "        train = train.drop(i,axis=1)\n",
    "        test = test.drop(i,axis=1)"
   ]
  },
  {
   "cell_type": "code",
   "execution_count": 6,
   "metadata": {},
   "outputs": [],
   "source": [
    "test = test.drop('Set ID',axis=1)"
   ]
  },
  {
   "cell_type": "code",
   "execution_count": 7,
   "metadata": {},
   "outputs": [],
   "source": [
    "for i in train.columns:\n",
    "    if 'OK' in list(train[i].value_counts().keys()):\n",
    "        train = train.drop(i,axis=1)\n",
    "        test = test.drop(i,axis=1)"
   ]
  },
  {
   "cell_type": "code",
   "execution_count": 8,
   "metadata": {},
   "outputs": [],
   "source": [
    "lst = []\n",
    "for i in test.columns:\n",
    "    x = 0\n",
    "    lens = len(test[i].value_counts().keys())\n",
    "    for value in test[i].value_counts().keys():\n",
    "        if value in train[i].value_counts().keys():\n",
    "            x += 1\n",
    "    if x == lens:\n",
    "        lst += [i]"
   ]
  },
  {
   "cell_type": "code",
   "execution_count": 9,
   "metadata": {},
   "outputs": [],
   "source": [
    "train = train[lst]\n",
    "test = test[lst[:-1]]"
   ]
  },
  {
   "cell_type": "code",
   "execution_count": 10,
   "metadata": {},
   "outputs": [
    {
     "name": "stdout",
     "output_type": "stream",
     "text": [
      "<class 'pandas.core.frame.DataFrame'>\n",
      "Index: 40500 entries, 0 to 40505\n",
      "Columns: 151 entries, Wip Line_Dam to target\n",
      "dtypes: float64(64), int64(70), object(17)\n",
      "memory usage: 47.0+ MB\n",
      "<class 'pandas.core.frame.DataFrame'>\n",
      "RangeIndex: 17361 entries, 0 to 17360\n",
      "Columns: 150 entries, Wip Line_Dam to WorkMode Collect Result_Fill2\n",
      "dtypes: float64(64), int64(70), object(16)\n",
      "memory usage: 19.9+ MB\n"
     ]
    }
   ],
   "source": [
    "train.info()\n",
    "test.info()"
   ]
  },
  {
   "cell_type": "code",
   "execution_count": 11,
   "metadata": {},
   "outputs": [
    {
     "name": "stdout",
     "output_type": "stream",
     "text": [
      "35425 38150\n",
      "  Total: Normal: 2725, AbNormal: 2350\n"
     ]
    },
    {
     "data": {
      "text/plain": [
       "target\n",
       "Normal      2725\n",
       "AbNormal    2350\n",
       "Name: count, dtype: int64"
      ]
     },
     "execution_count": 11,
     "metadata": {},
     "output_type": "execute_result"
    }
   ],
   "source": [
    "nowsss = 13\n",
    "\n",
    "print(nowsss*2725,(nowsss+1)*2725)\n",
    "df_normal = train[train[\"target\"] == \"Normal\"][nowsss*2725:(nowsss+1)*2725]\n",
    "df_abnormal = train[train[\"target\"] == \"AbNormal\"]\n",
    "\n",
    "num_normal = len(df_normal)\n",
    "num_abnormal = len(df_abnormal)\n",
    "print(f\"  Total: Normal: {num_normal}, AbNormal: {num_abnormal}\")\n",
    "\n",
    "df_concat = pd.concat([df_normal, df_abnormal], axis=0).reset_index(drop=True)\n",
    "df_concat.value_counts(\"target\")"
   ]
  },
  {
   "cell_type": "code",
   "execution_count": 12,
   "metadata": {},
   "outputs": [],
   "source": [
    "df = df_concat\n",
    "df_test = test"
   ]
  },
  {
   "cell_type": "code",
   "execution_count": 13,
   "metadata": {},
   "outputs": [],
   "source": [
    "for i in df.columns:\n",
    "    if len(df[i].value_counts().keys()) == 1:\n",
    "        df = df.drop(i,axis=1)\n",
    "        df_test = df_test.drop(i,axis=1)"
   ]
  },
  {
   "cell_type": "code",
   "execution_count": 14,
   "metadata": {},
   "outputs": [],
   "source": [
    "df['target'] = np.where(df['target'] == 'Normal',0,1)"
   ]
  },
  {
   "cell_type": "code",
   "execution_count": 15,
   "metadata": {},
   "outputs": [],
   "source": [
    "df = df.drop([i for i in df.select_dtypes('object').columns if 'Equipment_' in i],axis=1)\n",
    "df_test = df_test.drop([i for i in df.select_dtypes('object').columns if 'Equipment_' in i],axis=1)"
   ]
  },
  {
   "cell_type": "code",
   "execution_count": 16,
   "metadata": {},
   "outputs": [],
   "source": [
    "l = []\n",
    "\n",
    "for col in list(df.select_dtypes('object').columns):\n",
    "    per0 = []\n",
    "    per1 = []\n",
    "    per = []\n",
    "\n",
    "    for i in list(df[col].value_counts().keys()):\n",
    "        a = len(df[df[col] == i])\n",
    "        b = len(df[(df[col] == i) & (df['target'] == 1)])\n",
    "        per += [round(b/a,1)]\n",
    "\n",
    "        if (round(b/a,1)) >= 0.5:\n",
    "            per0 += [i]\n",
    "        else:\n",
    "            per1 += [i]\n",
    "    \n",
    "    df[col] = np.where(df[col].isin(per0),1,0)\n",
    "    df_test[col] = np.where(df_test[col].isin(per0),1,0)"
   ]
  },
  {
   "cell_type": "code",
   "execution_count": 17,
   "metadata": {},
   "outputs": [
    {
     "name": "stdout",
     "output_type": "stream",
     "text": [
      "<class 'pandas.core.frame.DataFrame'>\n",
      "RangeIndex: 5075 entries, 0 to 5074\n",
      "Columns: 120 entries, Model.Suffix_Dam to target\n",
      "dtypes: float64(60), int32(5), int64(55)\n",
      "memory usage: 4.5 MB\n",
      "<class 'pandas.core.frame.DataFrame'>\n",
      "RangeIndex: 17361 entries, 0 to 17360\n",
      "Columns: 122 entries, Equipment_Dam to WorkMode Collect Result_Fill2\n",
      "dtypes: float64(60), int32(4), int64(55), object(3)\n",
      "memory usage: 15.9+ MB\n"
     ]
    }
   ],
   "source": [
    "df.info()\n",
    "df_test.info()"
   ]
  },
  {
   "cell_type": "code",
   "execution_count": 18,
   "metadata": {},
   "outputs": [],
   "source": [
    "df_test = df_test[df.columns[:-1]]"
   ]
  },
  {
   "cell_type": "code",
   "execution_count": 19,
   "metadata": {},
   "outputs": [
    {
     "name": "stdout",
     "output_type": "stream",
     "text": [
      "<class 'pandas.core.frame.DataFrame'>\n",
      "RangeIndex: 5075 entries, 0 to 5074\n",
      "Columns: 120 entries, Model.Suffix_Dam to target\n",
      "dtypes: float64(60), int32(5), int64(55)\n",
      "memory usage: 4.5 MB\n",
      "<class 'pandas.core.frame.DataFrame'>\n",
      "RangeIndex: 17361 entries, 0 to 17360\n",
      "Columns: 119 entries, Model.Suffix_Dam to WorkMode Collect Result_Fill2\n",
      "dtypes: float64(60), int32(4), int64(55)\n",
      "memory usage: 15.5 MB\n"
     ]
    }
   ],
   "source": [
    "df.info()\n",
    "df_test.info()"
   ]
  },
  {
   "cell_type": "code",
   "execution_count": 20,
   "metadata": {},
   "outputs": [],
   "source": [
    "l = []\n",
    "\n",
    "for col in df.columns:\n",
    "    if len(df[col].value_counts().keys()) >= 3:\n",
    "        per0 = []\n",
    "        per1 = []\n",
    "        per = []\n",
    "\n",
    "        for i in list(df[col].value_counts().keys()):\n",
    "            a = len(df[df[col] == i])\n",
    "            b = len(df[(df[col] == i) & (df['target'] == 1)])\n",
    "            per += [round(b/a,1)]\n",
    "\n",
    "            if (round(b/a,1)) >= 0.5:\n",
    "                per0 += [i]\n",
    "            else:\n",
    "                per1 += [i]\n",
    "\n",
    "        if len([i for i in np.unique(per) if i >= 0.5]) >= 1:\n",
    "            df[col] = np.where(df[col].isin(per0),1,0)\n",
    "            df_test[col] = np.where(df_test[col].isin(per0),1,0)\n",
    "            l += [col]"
   ]
  },
  {
   "cell_type": "code",
   "execution_count": 21,
   "metadata": {},
   "outputs": [],
   "source": [
    "xtrain = df.drop(['target'],axis=1)\n",
    "ytrain = df['target']\n",
    "xtest = df_test"
   ]
  },
  {
   "cell_type": "code",
   "execution_count": 22,
   "metadata": {},
   "outputs": [],
   "source": [
    "xtrain,xval,ytrain,yval = train_test_split(xtrain,ytrain,test_size=0.2,random_state=RANDOM_STATE)"
   ]
  },
  {
   "cell_type": "code",
   "execution_count": 23,
   "metadata": {},
   "outputs": [],
   "source": [
    "from sklearn.svm import SVC\n",
    "from sklearn.ensemble import RandomForestClassifier\n",
    "\n",
    "rfc = RandomForestClassifier(random_state=RANDOM_STATE)\n",
    "rfc.fit(xtrain,ytrain)\n",
    "\n",
    "importance = rfc.feature_importances_\n",
    "\n",
    "# 정렬과 시각화를 쉽게 하기 위해 series 전환\n",
    "ft_series = pd.Series(importance, index = xtrain.columns)\n",
    "ft_top20 = pd.DataFrame(ft_series.sort_values(ascending=False)).reset_index()"
   ]
  },
  {
   "cell_type": "code",
   "execution_count": 24,
   "metadata": {},
   "outputs": [],
   "source": [
    "from sklearn.inspection import permutation_importance\n",
    "\n",
    "model = RandomForestClassifier(random_state=RANDOM_STATE).fit(xtrain, ytrain)\n",
    "\n",
    "pfi = permutation_importance(model, xval, yval,n_repeats=10,random_state=RANDOM_STATE)\n",
    "\n",
    "pfi_df = pd.DataFrame({\n",
    "    'Feature': xval.columns,\n",
    "    'Importance Mean': pfi.importances_mean,\n",
    "    'Importance Std': pfi.importances_std\n",
    "})\n",
    "\n",
    "pfi_df = pfi_df.sort_values(by='Importance Mean', ascending=False)"
   ]
  },
  {
   "cell_type": "code",
   "execution_count": 25,
   "metadata": {},
   "outputs": [
    {
     "name": "stdout",
     "output_type": "stream",
     "text": [
      "86 60\n"
     ]
    }
   ],
   "source": [
    "num = 0\n",
    "\n",
    "for i in range(100):\n",
    "    l2 = ft_top20['index'][:i]\n",
    "    l3 = pfi_df['Feature'][:i]\n",
    "    res = set(l2).intersection(l3)\n",
    "    if (len(list(res))) >= 60:\n",
    "        print(i,len(list(res)))\n",
    "        num = i\n",
    "        break"
   ]
  },
  {
   "cell_type": "code",
   "execution_count": 26,
   "metadata": {},
   "outputs": [],
   "source": [
    "l2 = ft_top20['index'][:num]\n",
    "l3 = pfi_df['Feature'][:num]\n",
    "\n",
    "res = list(set(l2).intersection(l3))[:60]"
   ]
  },
  {
   "cell_type": "code",
   "execution_count": 27,
   "metadata": {},
   "outputs": [
    {
     "data": {
      "text/plain": [
       "38150"
      ]
     },
     "execution_count": 27,
     "metadata": {},
     "output_type": "execute_result"
    }
   ],
   "source": [
    "2725 * (nowsss + 1)"
   ]
  },
  {
   "cell_type": "code",
   "execution_count": 28,
   "metadata": {},
   "outputs": [],
   "source": [
    "best_cols = pd.read_csv('이진분류기준칼럼.csv')\n",
    "best_cols[f'{2725 * (nowsss + 1)}'] = res\n",
    "\n",
    "best_cols.to_csv('이진분류기준칼럼.csv',index=False)"
   ]
  },
  {
   "cell_type": "code",
   "execution_count": null,
   "metadata": {},
   "outputs": [],
   "source": []
  }
 ],
 "metadata": {
  "kernelspec": {
   "display_name": "Python 3",
   "language": "python",
   "name": "python3"
  },
  "language_info": {
   "codemirror_mode": {
    "name": "ipython",
    "version": 3
   },
   "file_extension": ".py",
   "mimetype": "text/x-python",
   "name": "python",
   "nbconvert_exporter": "python",
   "pygments_lexer": "ipython3",
   "version": "3.10.11"
  }
 },
 "nbformat": 4,
 "nbformat_minor": 2
}
